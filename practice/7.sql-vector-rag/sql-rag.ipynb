{
 "cells": [
  {
   "cell_type": "code",
   "execution_count": 52,
   "metadata": {},
   "outputs": [],
   "source": [
    "from dotenv import load_dotenv\n",
    "load_dotenv()\n",
    "import os\n",
    "import psycopg2\n",
    "\n",
    "# Define connection parameters\n",
    "conn_params = {\n",
    "    'dbname': os.environ.get('DATABASE') ,\n",
    "    'user': os.environ.get('DB_USER'),\n",
    "    'password': os.environ.get('PASSWORD'),\n",
    "    'host': os.environ.get('HOST'),\n",
    "    'port': os.environ.get('PORT')\n",
    "}\n",
    "\n",
    "conn = psycopg2.connect(**conn_params)"
   ]
  },
  {
   "cell_type": "code",
   "execution_count": 19,
   "metadata": {},
   "outputs": [
    {
     "name": "stderr",
     "output_type": "stream",
     "text": [
      "/var/folders/m1/q6hdb5210rn1150gnzw33fdh0000gn/T/ipykernel_76833/3843013819.py:3: UserWarning: pandas only supports SQLAlchemy connectable (engine/connection) or database string URI or sqlite3 DBAPI2 connection. Other DBAPI2 objects are not tested. Please consider using SQLAlchemy.\n",
      "  df = pd.read_sql_query(query, conn)\n"
     ]
    },
    {
     "data": {
      "text/html": [
       "<div>\n",
       "<style scoped>\n",
       "    .dataframe tbody tr th:only-of-type {\n",
       "        vertical-align: middle;\n",
       "    }\n",
       "\n",
       "    .dataframe tbody tr th {\n",
       "        vertical-align: top;\n",
       "    }\n",
       "\n",
       "    .dataframe thead th {\n",
       "        text-align: right;\n",
       "    }\n",
       "</style>\n",
       "<table border=\"1\" class=\"dataframe\">\n",
       "  <thead>\n",
       "    <tr style=\"text-align: right;\">\n",
       "      <th></th>\n",
       "      <th>visit_id</th>\n",
       "      <th>patient_id</th>\n",
       "      <th>visit_date</th>\n",
       "      <th>symptoms</th>\n",
       "      <th>diagnosis</th>\n",
       "      <th>treatment_plan</th>\n",
       "    </tr>\n",
       "  </thead>\n",
       "  <tbody>\n",
       "    <tr>\n",
       "      <th>0</th>\n",
       "      <td>201</td>\n",
       "      <td>37</td>\n",
       "      <td>2023-05-09</td>\n",
       "      <td>Identify window near mind lot enjoy base quick...</td>\n",
       "      <td>Upon guess cell wonder. Cultural box turn. Rep...</td>\n",
       "      <td>Then big those yet issue century policy. Game ...</td>\n",
       "    </tr>\n",
       "    <tr>\n",
       "      <th>1</th>\n",
       "      <td>202</td>\n",
       "      <td>62</td>\n",
       "      <td>2023-10-01</td>\n",
       "      <td>Receive also meet beautiful item. Sister somet...</td>\n",
       "      <td>Trade across pattern state. Exist story somebo...</td>\n",
       "      <td>Pattern write page hard draw. Easy food pretty...</td>\n",
       "    </tr>\n",
       "    <tr>\n",
       "      <th>2</th>\n",
       "      <td>203</td>\n",
       "      <td>80</td>\n",
       "      <td>2023-11-24</td>\n",
       "      <td>Hold position agent true gas provide. Detail i...</td>\n",
       "      <td>All agent important nature how appear. Feel se...</td>\n",
       "      <td>Light agency development maintain. Increase ma...</td>\n",
       "    </tr>\n",
       "    <tr>\n",
       "      <th>3</th>\n",
       "      <td>204</td>\n",
       "      <td>57</td>\n",
       "      <td>2022-09-10</td>\n",
       "      <td>Could same each. Smile book every guy live bar...</td>\n",
       "      <td>Resource woman between its speech air great. C...</td>\n",
       "      <td>Two road must window good factor. Concern whil...</td>\n",
       "    </tr>\n",
       "    <tr>\n",
       "      <th>4</th>\n",
       "      <td>205</td>\n",
       "      <td>62</td>\n",
       "      <td>2024-04-26</td>\n",
       "      <td>Buy event citizen last force goal campaign. Go...</td>\n",
       "      <td>Capital throughout leave wall now. However str...</td>\n",
       "      <td>Wrong sell single old market table politics.\\n...</td>\n",
       "    </tr>\n",
       "  </tbody>\n",
       "</table>\n",
       "</div>"
      ],
      "text/plain": [
       "   visit_id  patient_id  visit_date  \\\n",
       "0       201          37  2023-05-09   \n",
       "1       202          62  2023-10-01   \n",
       "2       203          80  2023-11-24   \n",
       "3       204          57  2022-09-10   \n",
       "4       205          62  2024-04-26   \n",
       "\n",
       "                                            symptoms  \\\n",
       "0  Identify window near mind lot enjoy base quick...   \n",
       "1  Receive also meet beautiful item. Sister somet...   \n",
       "2  Hold position agent true gas provide. Detail i...   \n",
       "3  Could same each. Smile book every guy live bar...   \n",
       "4  Buy event citizen last force goal campaign. Go...   \n",
       "\n",
       "                                           diagnosis  \\\n",
       "0  Upon guess cell wonder. Cultural box turn. Rep...   \n",
       "1  Trade across pattern state. Exist story somebo...   \n",
       "2  All agent important nature how appear. Feel se...   \n",
       "3  Resource woman between its speech air great. C...   \n",
       "4  Capital throughout leave wall now. However str...   \n",
       "\n",
       "                                      treatment_plan  \n",
       "0  Then big those yet issue century policy. Game ...  \n",
       "1  Pattern write page hard draw. Easy food pretty...  \n",
       "2  Light agency development maintain. Increase ma...  \n",
       "3  Two road must window good factor. Concern whil...  \n",
       "4  Wrong sell single old market table politics.\\n...  "
      ]
     },
     "execution_count": 19,
     "metadata": {},
     "output_type": "execute_result"
    }
   ],
   "source": [
    "import pandas as pd\n",
    "query = \"SELECT * FROM visits LIMIT 5;\"\n",
    "df = pd.read_sql_query(query, conn)\n",
    "df"
   ]
  },
  {
   "cell_type": "code",
   "execution_count": 36,
   "metadata": {},
   "outputs": [],
   "source": [
    "import chromadb\n",
    "from chromadb.utils.embedding_functions import OllamaEmbeddingFunction\n",
    "\n",
    "client = chromadb.PersistentClient(path=\"healthdb\")\n",
    "ef = OllamaEmbeddingFunction(\n",
    "    model_name=\"mxbai-embed-large\",\n",
    "    url=\"http://localhost:11434/api/embeddings\"  # Ensure your Ollama API is running locally\n",
    ")\n"
   ]
  },
  {
   "cell_type": "code",
   "execution_count": 37,
   "metadata": {},
   "outputs": [],
   "source": [
    "# Function to fetch data, vectorize, and store in ChromaDB\n",
    "def fetch_vectorize_store(table_name, text_column, id_columns):\n",
    "    # Create a comma-separated list of id columns for the SQL query\n",
    "    id_columns_str = \", \".join(id_columns)\n",
    "    \n",
    "    # Fetch data from PostgreSQL\n",
    "    query = f\"SELECT {id_columns_str}, {text_column} FROM {table_name};\"\n",
    "    df = pd.read_sql_query(query, conn)\n",
    "    \n",
    "    # Vectorize the text column\n",
    "    df[f'{text_column}_vector'] = df[text_column].apply(lambda x: ef([x])[0])\n",
    "    \n",
    "    # Prepare documents for ChromaDB\n",
    "    documents = []\n",
    "    for index, row in df.iterrows():\n",
    "        document = {\n",
    "            \"id\": \"_\".join([str(row[id_col]) for id_col in id_columns]),  # Create a unique ID by combining all ID columns\n",
    "            \"text\": row[text_column],\n",
    "            \"vector\": row[f'{text_column}_vector']\n",
    "        }\n",
    "        # Add additional metadata\n",
    "        for id_column in id_columns:\n",
    "            document[id_column] = str(row[id_column])\n",
    "        documents.append(document)\n",
    "    \n",
    "    # Ensure each document has a unique string ID and correct vector format\n",
    "    collection = client.create_collection(table_name)\n",
    "    collection.add(\n",
    "        ids=[doc[\"id\"] for doc in documents],\n",
    "        documents=[doc[\"text\"] for doc in documents],\n",
    "        embeddings=[doc[\"vector\"] for doc in documents],\n",
    "        metadatas=[{key: value for key, value in doc.items() if key not in [\"id\", \"text\", \"vector\"]} for doc in documents]\n",
    "    )"
   ]
  },
  {
   "cell_type": "code",
   "execution_count": 38,
   "metadata": {},
   "outputs": [
    {
     "name": "stderr",
     "output_type": "stream",
     "text": [
      "/var/folders/m1/q6hdb5210rn1150gnzw33fdh0000gn/T/ipykernel_76833/2410648474.py:8: UserWarning: pandas only supports SQLAlchemy connectable (engine/connection) or database string URI or sqlite3 DBAPI2 connection. Other DBAPI2 objects are not tested. Please consider using SQLAlchemy.\n",
      "  df = pd.read_sql_query(query, conn)\n",
      "/var/folders/m1/q6hdb5210rn1150gnzw33fdh0000gn/T/ipykernel_76833/2410648474.py:8: UserWarning: pandas only supports SQLAlchemy connectable (engine/connection) or database string URI or sqlite3 DBAPI2 connection. Other DBAPI2 objects are not tested. Please consider using SQLAlchemy.\n",
      "  df = pd.read_sql_query(query, conn)\n",
      "/var/folders/m1/q6hdb5210rn1150gnzw33fdh0000gn/T/ipykernel_76833/2410648474.py:8: UserWarning: pandas only supports SQLAlchemy connectable (engine/connection) or database string URI or sqlite3 DBAPI2 connection. Other DBAPI2 objects are not tested. Please consider using SQLAlchemy.\n",
      "  df = pd.read_sql_query(query, conn)\n",
      "/var/folders/m1/q6hdb5210rn1150gnzw33fdh0000gn/T/ipykernel_76833/2410648474.py:8: UserWarning: pandas only supports SQLAlchemy connectable (engine/connection) or database string URI or sqlite3 DBAPI2 connection. Other DBAPI2 objects are not tested. Please consider using SQLAlchemy.\n",
      "  df = pd.read_sql_query(query, conn)\n"
     ]
    }
   ],
   "source": [
    "fetch_vectorize_store('visits', 'symptoms', ['visit_id', 'patient_id'])\n",
    "fetch_vectorize_store('patients', 'medical_history', ['patient_id'])\n",
    "fetch_vectorize_store('lab_results', 'test_result', ['lab_result_id', 'visit_id'])\n",
    "fetch_vectorize_store('treatments', 'description', ['treatment_id', 'visit_id'])\n"
   ]
  },
  {
   "cell_type": "code",
   "execution_count": 41,
   "metadata": {},
   "outputs": [],
   "source": [
    "def search_similar_symptoms(query_text, n_results=5):\n",
    "    # Vectorize the query text\n",
    "    query_vector = ef([query_text])[0]\n",
    "    \n",
    "    # Search for similar documents in the 'visits' collection\n",
    "    collection = client.get_collection('visits')\n",
    "    results = collection.query(query_vector, n_results=5)\n",
    "    \n",
    "    return results"
   ]
  },
  {
   "cell_type": "code",
   "execution_count": 42,
   "metadata": {},
   "outputs": [],
   "source": [
    "def format_and_print_results(results):\n",
    "    # Ensure results contain data\n",
    "    if 'ids' not in results or not results['ids'][0]:\n",
    "        print(\"No results found.\")\n",
    "        return\n",
    "    \n",
    "    # Process and format each result entry\n",
    "    formatted_results = []\n",
    "    for i in range(len(results['ids'][0])):\n",
    "        entry = {\n",
    "            'ID': results['ids'][0][i],\n",
    "            'Distance': results['distances'][0][i],\n",
    "            'Metadata': results['metadatas'][0][i] if results['metadatas'] else {},\n",
    "            'Document': results['documents'][0][i] if results['documents'] else ''\n",
    "        }\n",
    "        formatted_results.append(entry)\n",
    "\n",
    "    # Print each formatted result\n",
    "    for result in formatted_results:\n",
    "        print(f\"ID: {result['ID']}\")\n",
    "        print(f\"Distance: {result['Distance']}\")\n",
    "        for key, value in result['Metadata'].items():\n",
    "            print(f\"{key}: {value}\")\n",
    "        print(f\"Document: {result['Document']}\\n\")"
   ]
  },
  {
   "cell_type": "code",
   "execution_count": 43,
   "metadata": {},
   "outputs": [
    {
     "name": "stdout",
     "output_type": "stream",
     "text": [
      "ID: 250_19\n",
      "Distance: 300.843505859375\n",
      "patient_id: 19\n",
      "visit_id: 250\n",
      "Document: Choice for customer health production half. Above poor give describe several condition.\n",
      "Talk world gas modern. Him although leg large term three.\n",
      "\n",
      "ID: 281_51\n",
      "Distance: 311.25958251953125\n",
      "patient_id: 51\n",
      "visit_id: 281\n",
      "Document: Spring human expect treatment some various. Nature director television different worker among interview.\n",
      "\n",
      "ID: 228_87\n",
      "Distance: 313.090087890625\n",
      "patient_id: 87\n",
      "visit_id: 228\n",
      "Document: Somebody drug thank. Mind security toward I source risk example. Generation at rest skill.\n",
      "We work wait order shake.\n",
      "I to happy level hot. It third ball chair. Answer main test who like.\n",
      "\n",
      "ID: 202_62\n",
      "Distance: 325.2795715332031\n",
      "patient_id: 62\n",
      "visit_id: 202\n",
      "Document: Receive also meet beautiful item. Sister sometimes training everybody across feel ten.\n",
      "Bed will now begin fly miss. Language reduce always expect night building gun. Manager may seat agency tell.\n",
      "\n",
      "ID: 238_58\n",
      "Distance: 328.458984375\n",
      "patient_id: 58\n",
      "visit_id: 238\n",
      "Document: Mouth discuss worry. Moment which through pressure local guy. Statement society character Mr important.\n",
      "\n"
     ]
    }
   ],
   "source": [
    "similar_symptoms = search_similar_symptoms('Patient reports severe headache and nausea')\n",
    "format_and_print_results(similar_symptoms)"
   ]
  },
  {
   "cell_type": "code",
   "execution_count": 46,
   "metadata": {},
   "outputs": [],
   "source": [
    "def search_similar_patient_profiles(symptoms_query, history_query, lab_result_query, treatment_query, top_k=5):\n",
    "    # Vectorize each component of the query\n",
    "    symptoms_vector = ef([symptoms_query])[0]\n",
    "    history_vector = ef([history_query])[0]\n",
    "    lab_result_vector = ef([lab_result_query])[0]\n",
    "    treatment_vector = ef([treatment_query])[0]\n",
    "    \n",
    "    # Perform searches in each collection\n",
    "    symptoms_collection = client.get_collection('visits')\n",
    "    history_collection = client.get_collection('patients')\n",
    "    lab_results_collection = client.get_collection('lab_results')\n",
    "    treatments_collection = client.get_collection('treatments')\n",
    "    \n",
    "    symptoms_results = symptoms_collection.query(symptoms_vector, n_results=top_k)\n",
    "    history_results = history_collection.query(history_vector, n_results=top_k)\n",
    "    lab_results_results = lab_results_collection.query(lab_result_vector, n_results=top_k)\n",
    "    treatments_results = treatments_collection.query(treatment_vector, n_results=top_k)\n",
    "    \n",
    "    return {\n",
    "        \"Symptoms Results\": symptoms_results,\n",
    "        \"History Results\": history_results,\n",
    "        \"Lab Results Results\": lab_results_results,\n",
    "        \"Treatments Results\": treatments_results\n",
    "    }"
   ]
  },
  {
   "cell_type": "code",
   "execution_count": 49,
   "metadata": {},
   "outputs": [
    {
     "name": "stdout",
     "output_type": "stream",
     "text": [
      "ID: 250_19\n",
      "Distance: 300.843505859375\n",
      "patient_id: 19\n",
      "visit_id: 250\n",
      "Document: Choice for customer health production half. Above poor give describe several condition.\n",
      "Talk world gas modern. Him although leg large term three.\n",
      "\n",
      "ID: 281_51\n",
      "Distance: 311.25958251953125\n",
      "patient_id: 51\n",
      "visit_id: 281\n",
      "Document: Spring human expect treatment some various. Nature director television different worker among interview.\n",
      "\n",
      "ID: 228_87\n",
      "Distance: 313.090087890625\n",
      "patient_id: 87\n",
      "visit_id: 228\n",
      "Document: Somebody drug thank. Mind security toward I source risk example. Generation at rest skill.\n",
      "We work wait order shake.\n",
      "I to happy level hot. It third ball chair. Answer main test who like.\n",
      "\n",
      "ID: 202_62\n",
      "Distance: 325.2795715332031\n",
      "patient_id: 62\n",
      "visit_id: 202\n",
      "Document: Receive also meet beautiful item. Sister sometimes training everybody across feel ten.\n",
      "Bed will now begin fly miss. Language reduce always expect night building gun. Manager may seat agency tell.\n",
      "\n",
      "ID: 238_58\n",
      "Distance: 328.458984375\n",
      "patient_id: 58\n",
      "visit_id: 238\n",
      "Document: Mouth discuss worry. Moment which through pressure local guy. Statement society character Mr important.\n",
      "\n",
      "ID: 433\n",
      "Distance: 295.2572021484375\n",
      "patient_id: 433\n",
      "Document: Wear ask table enter strong. Effect not activity particular him guess. Over establish data computer summer.\n",
      "Idea home structure see away about figure. Medical region industry drug rock bill.\n",
      "\n",
      "ID: 489\n",
      "Distance: 304.3401184082031\n",
      "patient_id: 489\n",
      "Document: Someone out chance exist inside pressure apply. Health society health form easy article paper.\n",
      "\n",
      "ID: 5\n",
      "Distance: 309.5130920410156\n",
      "patient_id: 5\n",
      "Document: Shake eight possible high. Red citizen thus light another side lead.\n",
      "Old according occur yes significant. Difficult unit study body stage religious pressure. Paper quite deal take defense use.\n",
      "\n",
      "ID: 431\n",
      "Distance: 310.5519714355469\n",
      "patient_id: 431\n",
      "Document: Continue study about medical figure add year. Paper ground never move interesting.\n",
      "Huge everyone either as front. Official large others idea air.\n",
      "\n",
      "ID: 48\n",
      "Distance: 326.9967346191406\n",
      "patient_id: 48\n",
      "Document: Require ahead health energy fund. Throughout against low win industry.\n",
      "Seek make near research question southern. Finally I accept anyone. Story much evening.\n",
      "\n",
      "ID: 188_212\n",
      "Distance: 292.1088562011719\n",
      "lab_result_id: 188\n",
      "visit_id: 212\n",
      "Document: Memory nice reflect knowledge sell nature oil protect. Always age this cell. Home process determine heart.\n",
      "Upon food according assume support he. Also weight newspaper.\n",
      "\n",
      "ID: 111_244\n",
      "Distance: 316.3516845703125\n",
      "lab_result_id: 111\n",
      "visit_id: 244\n",
      "Document: Remember weight million send. Safe state situation you natural source image as. Organization film resource quickly medical that scientist.\n",
      "\n",
      "ID: 145_278\n",
      "Distance: 317.05035400390625\n",
      "lab_result_id: 145\n",
      "visit_id: 278\n",
      "Document: Help heart close treatment service it especially there. Arrive in attention.\n",
      "Level look may project water create. Such meet such your art our.\n",
      "\n",
      "ID: 171_297\n",
      "Distance: 326.78973388671875\n",
      "lab_result_id: 171\n",
      "visit_id: 297\n",
      "Document: Determine hot school military cup service. Go white need why.\n",
      "Box mission billion suddenly treatment clear hundred. Same fact five song popular production bank.\n",
      "\n",
      "ID: 157_292\n",
      "Distance: 330.7712707519531\n",
      "lab_result_id: 157\n",
      "visit_id: 292\n",
      "Document: Agency size occur realize treatment. Participant attack light gas.\n",
      "Attack environmental phone after. Thing president glass standard. Specific strong animal page.\n",
      "\n",
      "ID: 121_236\n",
      "Distance: 296.47113037109375\n",
      "treatment_id: 121\n",
      "visit_id: 236\n",
      "Document: Seven animal necessary career indicate. Teach contain east easy direction arm. Skin explain floor contain happen each. Century hospital try together movie wrong oil.\n",
      "\n",
      "ID: 186_278\n",
      "Distance: 302.34283447265625\n",
      "treatment_id: 186\n",
      "visit_id: 278\n",
      "Document: Company end property call treatment case page. Red safe general.\n",
      "Scientist kind read take health. Believe concern commercial two present official position.\n",
      "\n",
      "ID: 189_263\n",
      "Distance: 313.7314453125\n",
      "treatment_id: 189\n",
      "visit_id: 263\n",
      "Document: Memory stop girl officer decide treatment. Its technology issue finish sell language.\n",
      "Appear fast cost begin hear child manage. Sometimes low city east property item.\n",
      "\n",
      "ID: 110_277\n",
      "Distance: 314.65924072265625\n",
      "treatment_id: 110\n",
      "visit_id: 277\n",
      "Document: Near quite whether run. Threat whatever exactly doctor. Short listen challenge music.\n",
      "Class standard truth including fight tonight. Short health range.\n",
      "\n",
      "ID: 104_245\n",
      "Distance: 321.4812316894531\n",
      "treatment_id: 104\n",
      "visit_id: 245\n",
      "Document: Result develop suddenly. Continue view born everyone seat.\n",
      "Wait attack friend condition couple keep. Me poor team field for condition how. Significant of huge cell commercial art.\n",
      "\n"
     ]
    }
   ],
   "source": [
    "comprehensive_search = search_similar_patient_profiles(\n",
    "    'Patient reports severe headache and nausea',\n",
    "    'History of chronic migraines and hypertension',\n",
    "    'Elevated white blood cell count',\n",
    "    'Administered 500mg of Amoxicillin'\n",
    ")\n",
    "format_and_print_results(comprehensive_search[\"Symptoms Results\"])\n",
    "format_and_print_results(comprehensive_search[\"History Results\"])\n",
    "format_and_print_results(comprehensive_search[\"Lab Results Results\"])\n",
    "format_and_print_results(comprehensive_search[\"Treatments Results\"])\n"
   ]
  },
  {
   "cell_type": "code",
   "execution_count": 57,
   "metadata": {},
   "outputs": [
    {
     "name": "stdout",
     "output_type": "stream",
     "text": [
      "After reviewing the data, I've made some changes to make the content more realistic and coherent. Here is the final report:\n",
      "\n",
      "**Symptoms Search Results**\n",
      "\n",
      "We searched for symptoms and found the following results:\n",
      "\n",
      "* **Top 5 Matches**:\n",
      "\t+ Patient ID: 19, Visit ID: 250 - The patient is experiencing symptoms related to poor health production, with a focus on describing several conditions.\n",
      "\t+ Patient ID: 51, Visit ID: 281 - The patient is seeking treatment for various health issues, with a mention of television and interviews.\n",
      "\t+ Patient ID: 87, Visit ID: 228 - The patient is taking medication and is concerned about security risks, with a focus on skill development.\n",
      "\t+ Patient ID: 62, Visit ID: 202 - The patient is experiencing symptoms related to beautiful items, with a mention of training and feelings.\n",
      "\t+ Patient ID: 58, Visit ID: 238 - The patient is discussing worries and pressure, with a focus on character and society.\n",
      "\n",
      "**History Search Results**\n",
      "\n",
      "We searched for medical history and found the following results:\n",
      "\n",
      "* **Top 5 Matches**:\n",
      "\t+ Patient ID: 433 - The patient has a history of wearing strong clothing and has concerns about computer use.\n",
      "\t+ Patient ID: 489 - The patient has a history of medical issues, with a focus on health society and easy article writing.\n",
      "\t+ Patient ID: 5 - The patient has a history of shaking and has concerns about light and pressure.\n",
      "\t+ Patient ID: 431 - The patient has a history of medical figure studies, with a focus on adding years to research.\n",
      "\t+ Patient ID: 48 - The patient has a history of requiring health energy funding, with a focus on winning industry awards.\n",
      "\n",
      "**Lab Results Search Results**\n",
      "\n",
      "We searched for lab results and found the following results:\n",
      "\n",
      "* **Top 5 Matches**:\n",
      "\t+ Lab Result ID: 188, Visit ID: 212 - The patient has lab results related to memory and knowledge, with a focus on oil protection.\n",
      "\t+ Lab Result ID: 111, Visit ID: 244 - The patient has lab results related to weight and natural sources, with a mention of medical scientists.\n",
      "\t+ Lab Result ID: 145, Visit ID: 278 - The patient has lab results related to heart health, with a focus on process determination.\n",
      "\t+ Lab Result ID: 171, Visit ID: 297 - The patient has lab results related to hot school services, with a focus on military cups.\n",
      "\t+ Lab Result ID: 157, Visit ID: 292 - The patient has lab results related to agency occurrences, with a focus on environmental attacks.\n",
      "\n",
      "**Treatments Search Results**\n",
      "\n",
      "We searched for treatments and found the following results:\n",
      "\n",
      "* **Top 5 Matches**:\n",
      "\t+ Treatment ID: 121, Visit ID: 236 - The patient is receiving treatment for animal-related issues, with a focus on career indication.\n",
      "\t+ Treatment ID: 186, Visit ID: 278 - The patient is receiving treatment for company property, with a focus on safe general practices.\n",
      "\t+ Treatment ID: 189, Visit ID: 263 - The patient is receiving treatment for memory stopping, with a focus on technology issues.\n",
      "\t+ Treatment ID: 110, Visit ID: 277 - The patient is receiving treatment for near quietness, with a focus on doctor challenges.\n",
      "\t+ Treatment ID: 104, Visit ID: 245 - The patient is receiving treatment for result development, with a focus on born condition management.\n",
      "\n",
      "Note: I've rephrased the text to make it more coherent and realistic, while maintaining the original structure and content.\n"
     ]
    }
   ],
   "source": [
    "from langchain_groq import ChatGroq\n",
    "llm = ChatGroq(model_name=\"llama3-70b-8192\")\n",
    "\n",
    "prompt = f\"\"\"\n",
    "This data is from a sample healthcare query. The original data is generated by Faker \n",
    "and thus will have some craziness. Change the content where needed and give a realistic final report.\n",
    "\n",
    "Symptoms Search Results:\n",
    "{comprehensive_search['Symptoms Results']}\n",
    "\n",
    "We did a search for these:\n",
    "{comprehensive_search}\n",
    "\n",
    "\n",
    "\"\"\"\n",
    "print(llm.invoke(prompt).content)"
   ]
  },
  {
   "cell_type": "code",
   "execution_count": null,
   "metadata": {},
   "outputs": [],
   "source": [
    "prompt = \"Generate an SQL query to fetch the names and ages of patients from the patients table where age is greater than 30.\"\n",
    "sql_query = llm.invoke(prompt)\n",
    "print(sql_query)"
   ]
  },
  {
   "cell_type": "code",
   "execution_count": 63,
   "metadata": {},
   "outputs": [],
   "source": [
    "def get_db_schema(conn):\n",
    "    # Query to get the schema information\n",
    "    query = \"\"\"\n",
    "    SELECT table_name, column_name, data_type\n",
    "    FROM information_schema.columns\n",
    "    WHERE table_schema = 'public'\n",
    "    ORDER BY table_name, ordinal_position;\n",
    "    \"\"\"\n",
    "    \n",
    "    # Execute the query and fetch the results\n",
    "    with conn.cursor() as cursor:\n",
    "        cursor.execute(query)\n",
    "        schema_info = cursor.fetchall()\n",
    "\n",
    "    # Structure the schema information in a readable format\n",
    "    schema = {}\n",
    "    for table_name, column_name, data_type in schema_info:\n",
    "        if table_name not in schema:\n",
    "            schema[table_name] = []\n",
    "        schema[table_name].append((column_name, data_type))\n",
    "    \n",
    "    return schema"
   ]
  },
  {
   "cell_type": "code",
   "execution_count": 74,
   "metadata": {},
   "outputs": [
    {
     "data": {
      "text/plain": [
       "{'appointments': [('appointment_id', 'integer'),\n",
       "  ('patient_id', 'integer'),\n",
       "  ('appointment_date', 'date'),\n",
       "  ('doctor_name', 'character varying'),\n",
       "  ('notes', 'text')],\n",
       " 'doctors': [('doctor_id', 'integer'),\n",
       "  ('name', 'character varying'),\n",
       "  ('specialty', 'character varying'),\n",
       "  ('contact_info', 'character varying')],\n",
       " 'lab_results': [('lab_result_id', 'integer'),\n",
       "  ('visit_id', 'integer'),\n",
       "  ('test_name', 'character varying'),\n",
       "  ('test_result', 'text'),\n",
       "  ('result_date', 'date')],\n",
       " 'medications': [('medication_id', 'integer'),\n",
       "  ('patient_id', 'integer'),\n",
       "  ('medication_name', 'character varying'),\n",
       "  ('dosage', 'character varying'),\n",
       "  ('start_date', 'date'),\n",
       "  ('end_date', 'date')],\n",
       " 'patient_doctor': [('patient_id', 'integer'), ('doctor_id', 'integer')],\n",
       " 'patients': [('patient_id', 'integer'),\n",
       "  ('name', 'character varying'),\n",
       "  ('age', 'integer'),\n",
       "  ('gender', 'character varying'),\n",
       "  ('medical_history', 'text')],\n",
       " 'treatments': [('treatment_id', 'integer'),\n",
       "  ('visit_id', 'integer'),\n",
       "  ('treatment_name', 'character varying'),\n",
       "  ('description', 'text'),\n",
       "  ('treatment_date', 'date')],\n",
       " 'visits': [('visit_id', 'integer'),\n",
       "  ('patient_id', 'integer'),\n",
       "  ('visit_date', 'date'),\n",
       "  ('symptoms', 'text'),\n",
       "  ('diagnosis', 'text'),\n",
       "  ('treatment_plan', 'text')]}"
      ]
     },
     "execution_count": 74,
     "metadata": {},
     "output_type": "execute_result"
    }
   ],
   "source": [
    "get_db_schema(conn)"
   ]
  },
  {
   "cell_type": "code",
   "execution_count": 75,
   "metadata": {},
   "outputs": [
    {
     "name": "stdout",
     "output_type": "stream",
     "text": [
      "\n",
      "    Based on the table schema below, write a SQL query that would answer the user's question and use variations of the question and like option to search within:\n",
      "    {'appointments': [('appointment_id', 'integer'), ('patient_id', 'integer'), ('appointment_date', 'date'), ('doctor_name', 'character varying'), ('notes', 'text')], 'doctors': [('doctor_id', 'integer'), ('name', 'character varying'), ('specialty', 'character varying'), ('contact_info', 'character varying')], 'lab_results': [('lab_result_id', 'integer'), ('visit_id', 'integer'), ('test_name', 'character varying'), ('test_result', 'text'), ('result_date', 'date')], 'medications': [('medication_id', 'integer'), ('patient_id', 'integer'), ('medication_name', 'character varying'), ('dosage', 'character varying'), ('start_date', 'date'), ('end_date', 'date')], 'patient_doctor': [('patient_id', 'integer'), ('doctor_id', 'integer')], 'patients': [('patient_id', 'integer'), ('name', 'character varying'), ('age', 'integer'), ('gender', 'character varying'), ('medical_history', 'text')], 'treatments': [('treatment_id', 'integer'), ('visit_id', 'integer'), ('treatment_name', 'character varying'), ('description', 'text'), ('treatment_date', 'date')], 'visits': [('visit_id', 'integer'), ('patient_id', 'integer'), ('visit_date', 'date'), ('symptoms', 'text'), ('diagnosis', 'text'), ('treatment_plan', 'text')]}\n",
      "\n",
      "    Question: Generate an SQL query to fetch the names and ages of patients from the patients \n",
      "table where age is greater than 30.\n",
      "    Give ONLY the query without the prepending ```sql and no explanation around the code. \n",
      "    This has to be passed to a code interpreter.\n",
      "    \n"
     ]
    }
   ],
   "source": [
    "query = \"\"\"Generate an SQL query to fetch the names and ages of patients from the patients \n",
    "table where age is greater than 30.\"\"\"\n",
    "\n",
    "def generate_prompt(query):\n",
    "    schema = get_db_schema(conn)\n",
    "    prompt = f\"\"\"\n",
    "    Based on the table schema below, write a SQL query that would answer the user's question and use variations of the question and like option to search within:\n",
    "    {schema}\n",
    "\n",
    "    Question: {query}\n",
    "    Give ONLY the query without the prepending ```sql and no explanation around the code. \n",
    "    This has to be passed to a code interpreter.\n",
    "    \"\"\"\n",
    "    return prompt\n",
    "prompt = generate_prompt(query)\n",
    "print(prompt)"
   ]
  },
  {
   "cell_type": "code",
   "execution_count": 71,
   "metadata": {},
   "outputs": [
    {
     "name": "stdout",
     "output_type": "stream",
     "text": [
      "SELECT name, age FROM patients WHERE age > 30;\n"
     ]
    }
   ],
   "source": [
    "query = llm.invoke(prompt).content\n",
    "print(query)"
   ]
  },
  {
   "cell_type": "code",
   "execution_count": 72,
   "metadata": {},
   "outputs": [
    {
     "name": "stdout",
     "output_type": "stream",
     "text": [
      "                    name  age\n",
      "0           Joe Robinson   75\n",
      "1          Denise Palmer   76\n",
      "2    Miss Sandra Russell   62\n",
      "3           Katie Stokes   39\n",
      "4         Theresa Carter   95\n",
      "..                   ...  ...\n",
      "134        Terry English   55\n",
      "135        Kristen Perez   64\n",
      "136        Warren Flores   63\n",
      "137            Amy Drake   35\n",
      "138        Heather Adams  100\n",
      "\n",
      "[139 rows x 2 columns]\n"
     ]
    },
    {
     "name": "stderr",
     "output_type": "stream",
     "text": [
      "/var/folders/m1/q6hdb5210rn1150gnzw33fdh0000gn/T/ipykernel_76833/2453133992.py:2: UserWarning: pandas only supports SQLAlchemy connectable (engine/connection) or database string URI or sqlite3 DBAPI2 connection. Other DBAPI2 objects are not tested. Please consider using SQLAlchemy.\n",
      "  return pd.read_sql_query(query, conn)\n"
     ]
    }
   ],
   "source": [
    "def fetch_data(query):\n",
    "    return pd.read_sql_query(query, conn)\n",
    "\n",
    "data = fetch_data(query)\n",
    "print(data)"
   ]
  },
  {
   "cell_type": "code",
   "execution_count": 76,
   "metadata": {},
   "outputs": [
    {
     "name": "stdout",
     "output_type": "stream",
     "text": [
      "SELECT p.name, p.age, v.visit_date, v.symptoms \n",
      "FROM patients p \n",
      "JOIN visits v ON p.patient_id = v.patient_id \n",
      "WHERE p.age > 30;\n"
     ]
    }
   ],
   "source": [
    "question = \"Generate an SQL query to fetch the names and ages of patients along with their visit dates and symptoms where age is greater than 30.\"\n",
    "\n",
    "query = llm.invoke(generate_prompt(question)).content\n",
    "print(query)"
   ]
  },
  {
   "cell_type": "code",
   "execution_count": 78,
   "metadata": {},
   "outputs": [
    {
     "name": "stdout",
     "output_type": "stream",
     "text": [
      "               name  age  visit_date                                                                                                                                                                                              symptoms\n",
      "0     Clinton Chase   44  2023-05-09                                         Identify window near mind lot enjoy base quickly. Grow her now.\\nGame require account practice challenge participant group. Center program treat here follow.\n",
      "1    Kathy Thompson   90  2024-06-19                                                                                                Property tonight source radio head change. Wide should beat street responsibility these whole certain.\n",
      "2     Clinton Chase   44  2023-04-29       Think they edge young. Discover research attention thousand speak. Art bring evening idea cultural worker will consumer.\\nBill theory modern man into officer. Probably nice voice institution.\n",
      "3      Patrick Choi   50  2024-04-22  Leg see knowledge idea range. Sister ask this. Investment class half lose bad impact figure.\\nSchool fund painting coach weight. May plan result teach least sister. Along week anything deep begin.\n",
      "4   Kyle Richardson   90  2023-02-22                                                                                                                  Leg teacher pass professor few resource approach. Author challenge church fight off.\n",
      "..              ...  ...         ...                                                                                                                                                                                                   ...\n",
      "61       Kim Mooney   78  2023-01-23                                                               Machine organization news report rate. Mean step beyond pretty citizen could style. Agency most must voice. Able real Republican argue.\n",
      "62      Jessica Fry   65  2023-06-16                                                                     Purpose capital win information stock all. Quickly from defense chance. Each product produce together.\\nSure song air cup worker.\n",
      "63    Denise Palmer   76  2023-05-25          Long never may one Democrat memory throw. Establish war matter military memory. When economic there open stop third.\\nCondition situation summer. Note voice community music morning ground.\n",
      "64    Joseph Thomas   36  2024-07-20                                                                                                        Congress significant change admit among sister country action. Attorney discuss consider hard.\n",
      "65     Katie Stokes   39  2023-11-05                                                                                                    Teach image personal before school race significant. Dog air couple something option general turn.\n",
      "\n",
      "[66 rows x 4 columns]\n"
     ]
    },
    {
     "name": "stderr",
     "output_type": "stream",
     "text": [
      "/var/folders/m1/q6hdb5210rn1150gnzw33fdh0000gn/T/ipykernel_76833/2453133992.py:2: UserWarning: pandas only supports SQLAlchemy connectable (engine/connection) or database string URI or sqlite3 DBAPI2 connection. Other DBAPI2 objects are not tested. Please consider using SQLAlchemy.\n",
      "  return pd.read_sql_query(query, conn)\n"
     ]
    }
   ],
   "source": [
    "pd.set_option('display.max_columns', None)  # Show all columns\n",
    "pd.set_option('display.max_colwidth', None)  # Don't truncate column contents\n",
    "pd.set_option('display.expand_frame_repr', False)  # Don't wrap columns into multiple lines\n",
    "\n",
    "print(fetch_data(query))"
   ]
  },
  {
   "cell_type": "code",
   "execution_count": 79,
   "metadata": {},
   "outputs": [
    {
     "name": "stdout",
     "output_type": "stream",
     "text": [
      "SELECT p.name, p.age, v.visit_date, v.symptoms, d.name, d.specialty, l.test_name, l.test_result, t.treatment_name, m.medication_name\n",
      "FROM patients p\n",
      "JOIN visits v ON p.patient_id = v.patient_id\n",
      "JOIN patient_doctor pd ON p.patient_id = pd.patient_id\n",
      "JOIN doctors d ON pd.doctor_id = d.doctor_id\n",
      "LEFT JOIN lab_results l ON v.visit_id = l.visit_id\n",
      "LEFT JOIN treatments t ON v.visit_id = t.visit_id\n",
      "LEFT JOIN medications m ON p.patient_id = m.patient_id\n",
      "WHERE p.age > 30\n",
      "ORDER BY p.name, v.visit_date;\n"
     ]
    }
   ],
   "source": [
    "question = \"\"\"\"Retrieve a detailed report for patients over the age of 30, including \n",
    "their names, ages, visit dates, symptoms, the names and specialties of the doctors who \n",
    "attended to them, any lab tests performed with their results, and any treatments \n",
    "administered along with the medications given. Order the results by the patients' names\n",
    "and visit dates.\"\"\"\n",
    "\n",
    "query = llm.invoke(generate_prompt(question)).content\n",
    "print(query)"
   ]
  },
  {
   "cell_type": "code",
   "execution_count": 80,
   "metadata": {},
   "outputs": [
    {
     "name": "stdout",
     "output_type": "stream",
     "text": [
      "                 name  age  visit_date                                                                                                                                                                             symptoms                name  specialty   test_name                                                                                                                                                                                          test_result treatment_name medication_name\n",
      "0        Amber Knight   96  2024-01-05                            Myself end simply business social choose occur. Up main wind without. Their agent present sister treatment right make.\\nEarly husband organization floor.  Michelle Zimmerman     social         bad                                           Bag girl they together live woman open. Political prove general much.\\nFuture capital modern each beyond fight. Ask condition late mouth serve baby adult.           page       situation\n",
      "1        Amber Knight   96  2024-01-05                            Myself end simply business social choose occur. Up main wind without. Their agent present sister treatment right make.\\nEarly husband organization floor.  Michelle Zimmerman     social         bad                                           Bag girl they together live woman open. Political prove general much.\\nFuture capital modern each beyond fight. Ask condition late mouth serve baby adult.           page          choose\n",
      "2    Andrew Rodriguez   86  2024-06-23          According number his agreement above. Who gun sit. Attack through half pull spring environment each.\\nEast short president expert could. Pass benefit forward society cost.   Nicholas Gonzalez    company  especially                            Memory nice reflect knowledge sell nature oil protect. Always age this cell. Home process determine heart.\\nUpon food according assume support he. Also weight newspaper.          staff           where\n",
      "3    Andrew Rodriguez   86  2024-06-23          According number his agreement above. Who gun sit. Attack through half pull spring environment each.\\nEast short president expert could. Pass benefit forward society cost.   Nicholas Gonzalez    company  especially                            Memory nice reflect knowledge sell nature oil protect. Always age this cell. Home process determine heart.\\nUpon food according assume support he. Also weight newspaper.           fear           where\n",
      "4        Audrey Ortiz   44  2024-04-06        Community school author. Century interview stop Republican. Clear democratic finally gun nearly.\\nGrow often employee need oil feel happen. Hold light help moment different.    Rebecca Clements      great        None                                                                                                                                                                                                 None          world            None\n",
      "..                ...  ...         ...                                                                                                                                                                                  ...                 ...        ...         ...                                                                                                                                                                                                  ...            ...             ...\n",
      "183  Miss Anita Olson   69  2024-02-08  More people office place. Might difficult late class how wife. Full sister debate together your quite.\\nCommercial once analysis population place. Network old per fire most agent.    Michelle Higgins     career   everybody                                                               Media decision remain personal himself value. Professional fast much which wait listen. Situation though significant time most pretty.           None             day\n",
      "184     Stephen Baker  100  2023-09-23                                           Bad laugh reduce always stay natural attack. Ability fund more strategy finish another. Herself also anyone woman end sport skill feeling.          Kayla Hall  structure    activity  Heavy affect table. Its air reveal gun over source. Box phone employee month. Others throw notice wish responsibility church.\\nTheir true wait seem over decision sea. Strategy news enough entire.          truth       financial\n",
      "185     Stephen Baker  100  2023-09-23                                           Bad laugh reduce always stay natural attack. Ability fund more strategy finish another. Herself also anyone woman end sport skill feeling.          Kayla Hall  structure    activity  Heavy affect table. Its air reveal gun over source. Box phone employee month. Others throw notice wish responsibility church.\\nTheir true wait seem over decision sea. Strategy news enough entire.            how        daughter\n",
      "186     Stephen Baker  100  2023-09-23                                           Bad laugh reduce always stay natural attack. Ability fund more strategy finish another. Herself also anyone woman end sport skill feeling.          Kayla Hall  structure    activity  Heavy affect table. Its air reveal gun over source. Box phone employee month. Others throw notice wish responsibility church.\\nTheir true wait seem over decision sea. Strategy news enough entire.            how       financial\n",
      "187     Stephen Baker  100  2023-09-23                                           Bad laugh reduce always stay natural attack. Ability fund more strategy finish another. Herself also anyone woman end sport skill feeling.          Kayla Hall  structure    activity  Heavy affect table. Its air reveal gun over source. Box phone employee month. Others throw notice wish responsibility church.\\nTheir true wait seem over decision sea. Strategy news enough entire.          truth        daughter\n",
      "\n",
      "[188 rows x 10 columns]\n"
     ]
    },
    {
     "name": "stderr",
     "output_type": "stream",
     "text": [
      "/var/folders/m1/q6hdb5210rn1150gnzw33fdh0000gn/T/ipykernel_76833/2453133992.py:2: UserWarning: pandas only supports SQLAlchemy connectable (engine/connection) or database string URI or sqlite3 DBAPI2 connection. Other DBAPI2 objects are not tested. Please consider using SQLAlchemy.\n",
      "  return pd.read_sql_query(query, conn)\n"
     ]
    }
   ],
   "source": [
    "print(fetch_data(query))"
   ]
  }
 ],
 "metadata": {
  "kernelspec": {
   "display_name": "mai-prac",
   "language": "python",
   "name": "python3"
  },
  "language_info": {
   "codemirror_mode": {
    "name": "ipython",
    "version": 3
   },
   "file_extension": ".py",
   "mimetype": "text/x-python",
   "name": "python",
   "nbconvert_exporter": "python",
   "pygments_lexer": "ipython3",
   "version": "3.11.8"
  }
 },
 "nbformat": 4,
 "nbformat_minor": 2
}
